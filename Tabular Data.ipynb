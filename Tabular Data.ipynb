{
  "nbformat": 4,
  "nbformat_minor": 0,
  "metadata": {
    "kernelspec": {
      "display_name": "Python 3",
      "language": "python",
      "name": "python3"
    },
    "language_info": {
      "codemirror_mode": {
        "name": "ipython",
        "version": 3
      },
      "file_extension": ".py",
      "mimetype": "text/x-python",
      "name": "python",
      "nbconvert_exporter": "python",
      "pygments_lexer": "ipython3",
      "version": "3.7.1"
    },
    "colab": {
      "name": "6-12-20lproj.ipynb",
      "provenance": [],
      "include_colab_link": true
    }
  },
  "cells": [
    {
      "cell_type": "markdown",
      "metadata": {
        "id": "view-in-github",
        "colab_type": "text"
      },
      "source": [
        "<a href=\"https://colab.research.google.com/github/jowinjestine/Automated_Data_Cleaning/blob/main/Tabular%20Data.ipynb\" target=\"_parent\"><img src=\"https://colab.research.google.com/assets/colab-badge.svg\" alt=\"Open In Colab\"/></a>"
      ]
    },
    {
      "cell_type": "code",
      "metadata": {
        "id": "HIAD5gnZQIyU"
      },
      "source": [
        "import pandas as pd    \n",
        "df = pd.read_csv('sudeste.csv')            #take dataset as input\n",
        "print(df)"
      ],
      "execution_count": null,
      "outputs": []
    },
    {
      "cell_type": "code",
      "metadata": {
        "id": "TRrpw5nvQIyZ"
      },
      "source": [
        ""
      ],
      "execution_count": null,
      "outputs": []
    },
    {
      "cell_type": "code",
      "metadata": {
        "id": "-bkSnCQHQIyc"
      },
      "source": [
        "import numpy as np\n",
        "import re"
      ],
      "execution_count": null,
      "outputs": []
    },
    {
      "cell_type": "code",
      "metadata": {
        "id": "LO-4qrI0QIyf",
        "outputId": "df347c28-1df9-4329-8f9c-fc971b761a0e"
      },
      "source": [
        "for col in df.columns:\n",
        "    coltosplit=re.findall(\"\\w\\S/\\w+\", col)      #to find which columns need to be split\n",
        "print(coltosplit)\n"
      ],
      "execution_count": null,
      "outputs": [
        {
          "output_type": "stream",
          "text": [
            "['TM/Perc']\n"
          ],
          "name": "stdout"
        }
      ]
    },
    {
      "cell_type": "code",
      "metadata": {
        "id": "WpxmHndGQIyi",
        "outputId": "7029109c-b0fc-4e8b-c809-23019608b6b0"
      },
      "source": [
        "print(\"Enter 0 to replace string with 0 or Enter 1 to replace string with NaN\")   #to replace strings like AB = absent to 0 if 0 is chosen and by NaN if 1 is selected\n",
        "a=int(input('Enter choice'))\n",
        "if(a==0):\n",
        "    df1=df.replace(r'^[a-zA-Z]*$', 0, regex=True)   #using regex\n",
        "else:\n",
        "    df1=df.replace(r'^[a-zA-Z]*$', np.nan, regex=True)\n",
        "    \n",
        "print(df1)"
      ],
      "execution_count": null,
      "outputs": [
        {
          "output_type": "stream",
          "text": [
            "Enter 0 to replace string with 0 or Enter 1 to replace string with NaN\n",
            "Enter choice0\n",
            "    ID                  Name  IOT   AI AWP     ST  Year  Month  date  \\\n",
            "0    1       Vaibhav Ambekar   82   90  84   35.0  1997      5     8   \n",
            "1    2       Prathamesh More   66   37  59    NaN  1995      5    27   \n",
            "2    3          Bravish Naik   52   45  39   53.0  1995      9    15   \n",
            "3    4         Pratik Shirke   69   82  50    NaN  1999      5    25   \n",
            "4    5            Karan Raut   31   52  89   51.0  1999      4    17   \n",
            "5    6           Amol Patil    34   55  97   49.0  1995     11     7   \n",
            "6    7         Rutwik Pandit   87    0  79   89.0  1996      4     6   \n",
            "7    8         Nishant Salvi   63   43  93   33.0  1995      1    14   \n",
            "8    9   Vaishnavi Kantulwar   50  161  89   35.0  1998      1    13   \n",
            "9   10         Sonali Jadhav   79  NaN  59   90.0  1997      7     5   \n",
            "10  11          Yogesh Dhote   64   75  95   37.0  1999      8     5   \n",
            "11  12           Karan Raut    75   35  51   40.0  1997      5    15   \n",
            "12  13          Ankita Parab   73   60  70   37.0  1997     10    27   \n",
            "13  14    Pratiksha Bramhane   39   53  53   58.0  1995      8    24   \n",
            "14  15        Shubhangi More   79   33   0   75.0  1998      3     6   \n",
            "15  16           Dyuti Naidu   80   34  74   91.0  1996     10    27   \n",
            "16  17           Rahul Gupta   67   69  41   93.0  1995      7     1   \n",
            "17  18       Priyanshu Singh   91   53  33   38.0  1997     11    24   \n",
            "18  19        Mitesh Jaiswal   55   89  93   38.0  1998      9     9   \n",
            "19  20         Aditya Nivate  161   87  48    NaN  1998     11    14   \n",
            "20  21       Narendra Chawda   85   91  43   94.0  1999      9    24   \n",
            "21  22         Prakash Saini   65   50  87   41.0  1997     11     4   \n",
            "22  23          Ganesh Nadar   96   39  65   55.0  1995      8    10   \n",
            "23  24         Riddhesh Shah   65   45  63   32.0  1999      3    20   \n",
            "24  25      Siddharth Sharma   72   82  84   40.0  1996     11    26   \n",
            "25  26      Arbaaz Vadnagara   72   42  40   70.0  1999      7    12   \n",
            "26  27         Krunal Shinde   56   78  78   82.0  1999      6    18   \n",
            "27  28      Mohammed Malpara   45   66  32   79.0  1996      2    19   \n",
            "28  29          Vivek Sharma   70    0  76   32.0  1997     10    20   \n",
            "29  30          Ravi Sharama   74   31  76   87.0  1998      2     9   \n",
            "30  31          Rajdev Karan   68   53  74   42.0  1995      4     1   \n",
            "31  32  Ravikant Vishwakarma   60   73  60   33.0  1997      8    13   \n",
            "32  33             Jeet Daga   64   75  56   79.0  1999      4     1   \n",
            "33  34        Jitendra Varma   88   43  52   62.0  1998      6     8   \n",
            "34  35            Jayesh Das   64   85  86   43.0  1997      9    15   \n",
            "35  36          Aniket Gupta   49   76  46   95.0  1997      7     3   \n",
            "36  37            Meha James   79   87  51   42.0  1995      4     5   \n",
            "37  38          Adarsh Joshi   57   57  52   80.0  1996     11     5   \n",
            "38  39         Bhavna Mishra   84   64  47   65.0  1998      2     7   \n",
            "39  40       Shreekant Kadam   43   68  52  142.0  1999      8    23   \n",
            "\n",
            "      TM/Perc  \n",
            "0   291/72.75  \n",
            "1         NaN  \n",
            "2   189/47.25  \n",
            "3         NaN  \n",
            "4   223/55.75  \n",
            "5   235/58.75  \n",
            "6         NaN  \n",
            "7      232/58  \n",
            "8   335/83.75  \n",
            "9         NaN  \n",
            "10  271/67.75  \n",
            "11  201/50.25  \n",
            "12     240/60  \n",
            "13  203/50.75  \n",
            "14        NaN  \n",
            "15  279/69.75  \n",
            "16   270/67.5  \n",
            "17  215/53.75  \n",
            "18  275/68.75  \n",
            "19        NaN  \n",
            "20  313/78.25  \n",
            "21  243/60.75  \n",
            "22  255/63.75  \n",
            "23  205/51.25  \n",
            "24   278/69.5  \n",
            "25     224/56  \n",
            "26   294/73.5  \n",
            "27   222/55.5  \n",
            "28        NaN  \n",
            "29     268/67  \n",
            "30  237/59.25  \n",
            "31   226/56.5  \n",
            "32   274/68.5  \n",
            "33  245/61.25  \n",
            "34   278/69.5  \n",
            "35   266/66.5  \n",
            "36  259/64.75  \n",
            "37   246/61.5  \n",
            "38     260/65  \n",
            "39  305/76.25  \n"
          ],
          "name": "stdout"
        }
      ]
    },
    {
      "cell_type": "code",
      "metadata": {
        "id": "WTjVcPwyQIyk"
      },
      "source": [
        "#splitting the columns that need to be splitted \n",
        "for item in coltosplit:       \n",
        "    aftersplit=item.split('/')        \n",
        "    df1[[aftersplit[0],aftersplit[1]]]=df1[item].str.split(\"/\",expand=True)\n",
        "    df1.drop(item,axis=1,inplace=True)"
      ],
      "execution_count": null,
      "outputs": []
    },
    {
      "cell_type": "code",
      "metadata": {
        "id": "rdanxHf_QIyo"
      },
      "source": [
        "df1"
      ],
      "execution_count": null,
      "outputs": []
    },
    {
      "cell_type": "code",
      "metadata": {
        "id": "6WQcFzHlQIyr"
      },
      "source": [
        "#finding correlation using pearson and kendall methods\n",
        "a1=df1.corr(method ='pearson')  "
      ],
      "execution_count": null,
      "outputs": []
    },
    {
      "cell_type": "code",
      "metadata": {
        "id": "W-SM516mQIyt"
      },
      "source": [
        "a2=df.corr(method ='kendall') \n"
      ],
      "execution_count": null,
      "outputs": []
    },
    {
      "cell_type": "code",
      "metadata": {
        "id": "ul7vxbtgQIyv",
        "outputId": "9764911f-2374-4fd5-fae7-71d040abc7cf"
      },
      "source": [
        "a1,a2"
      ],
      "execution_count": null,
      "outputs": [
        {
          "output_type": "execute_result",
          "data": {
            "text/plain": [
              "(             ID       IOT        ST      Year     Month      date\n",
              " ID     1.000000  0.043266  0.289805  0.165989  0.050518 -0.217475\n",
              " IOT    0.043266  1.000000 -0.047611  0.066741  0.145473 -0.038270\n",
              " ST     0.289805 -0.047611  1.000000  0.182817 -0.032149 -0.047962\n",
              " Year   0.165989  0.066741  0.182817  1.000000 -0.130303  0.080975\n",
              " Month  0.050518  0.145473 -0.032149 -0.130303  1.000000  0.219849\n",
              " date  -0.217475 -0.038270 -0.047962  0.080975  0.219849  1.000000,\n",
              "              ID       IOT        ST      Year     Month      date\n",
              " ID     1.000000  0.000000  0.202421  0.122488  0.026725 -0.170707\n",
              " IOT    0.000000  1.000000  0.021277  0.015748  0.032236 -0.007859\n",
              " ST     0.202421  0.021277  1.000000  0.038585 -0.026746 -0.152083\n",
              " Year   0.122488  0.015748  0.038585  1.000000 -0.109853  0.069488\n",
              " Month  0.026725  0.032236 -0.026746 -0.109853  1.000000  0.146686\n",
              " date  -0.170707 -0.007859 -0.152083  0.069488  0.146686  1.000000)"
            ]
          },
          "metadata": {
            "tags": []
          },
          "execution_count": 9
        }
      ]
    },
    {
      "cell_type": "code",
      "metadata": {
        "id": "n9Ff1VcRQIyy",
        "outputId": "5575c86a-fc71-47e0-ec97-774ddf39cf65"
      },
      "source": [
        "print(type(df.iloc[1][4]))"
      ],
      "execution_count": null,
      "outputs": [
        {
          "output_type": "stream",
          "text": [
            "<class 'str'>\n"
          ],
          "name": "stdout"
        }
      ]
    },
    {
      "cell_type": "code",
      "metadata": {
        "id": "MfJXYFtZQIy1"
      },
      "source": [
        "#converting all non-string values to float\n",
        "for col in df1.columns:\n",
        "    if(col!=\"Name\"):\n",
        "        df1['AWP']=df1['AWP'].astype(float)"
      ],
      "execution_count": null,
      "outputs": []
    },
    {
      "cell_type": "code",
      "metadata": {
        "id": "sUjJD6bKQIy3",
        "outputId": "7827b1dd-9fdd-47a9-af09-2985d7ff2b27"
      },
      "source": [
        "\"\"\"\"\n",
        "for col in df1.columns:\n",
        "    if(col=='ID'):\n",
        "        continue\n",
        "    for data in df1[col]:\n",
        "        #print(type(data))\n",
        "        re.match('[0-9]',data)\n",
        "\"\"\""
      ],
      "execution_count": null,
      "outputs": [
        {
          "output_type": "execute_result",
          "data": {
            "text/plain": [
              "'\"\\nfor col in df1.columns:\\n    if(col==\\'ID\\'):\\n        continue\\n    for data in df1[col]:\\n        #print(type(data))\\n        re.match(\\'[0-9]\\',data)\\n'"
            ]
          },
          "metadata": {
            "tags": []
          },
          "execution_count": 12
        }
      ]
    },
    {
      "cell_type": "code",
      "metadata": {
        "id": "Fn4Krk-WQIy5"
      },
      "source": [
        "for col in df1.columns:\n",
        "    if(col=='Name'):\n",
        "        continue\n",
        "    df1[col]=df1[col].astype(float)"
      ],
      "execution_count": null,
      "outputs": []
    },
    {
      "cell_type": "code",
      "metadata": {
        "id": "KXi-aNqIQIy8"
      },
      "source": [
        "#df1.to_csv(\"editedmarks.csv\")"
      ],
      "execution_count": null,
      "outputs": []
    },
    {
      "cell_type": "code",
      "metadata": {
        "id": "ZjOsPoWeQIzA"
      },
      "source": [
        "mp=df1.applymap(lambda x: isinstance(x, (int, float))),df1"
      ],
      "execution_count": null,
      "outputs": []
    },
    {
      "cell_type": "code",
      "metadata": {
        "id": "XsJQ0Ia5QIzC"
      },
      "source": [
        "mp"
      ],
      "execution_count": null,
      "outputs": []
    },
    {
      "cell_type": "code",
      "metadata": {
        "id": "T45Ze3ADQIzF"
      },
      "source": [
        "a1=df1.corr(method ='pearson').abs() "
      ],
      "execution_count": null,
      "outputs": []
    },
    {
      "cell_type": "code",
      "metadata": {
        "scrolled": true,
        "id": "Q_dM8qYXQIzH"
      },
      "source": [
        "a1"
      ],
      "execution_count": null,
      "outputs": []
    },
    {
      "cell_type": "code",
      "metadata": {
        "id": "mi60d8-EQIzJ",
        "outputId": "a010c0e0-6d39-48aa-c13e-f4bfbefa473d"
      },
      "source": [
        "by_row_index = df1.groupby(df1.index)\n",
        "df_means = by_row_index.mean()\n",
        "\n",
        "print (df_means.head())"
      ],
      "execution_count": null,
      "outputs": [
        {
          "output_type": "stream",
          "text": [
            "    ID   IOT    AI   AWP    ST    Year  Month  date     TM   Perc\n",
            "0  1.0  82.0  90.0  84.0  35.0  1997.0    5.0   8.0  291.0  72.75\n",
            "1  2.0  66.0  37.0  59.0   NaN  1995.0    5.0  27.0    NaN    NaN\n",
            "2  3.0  52.0  45.0  39.0  53.0  1995.0    9.0  15.0  189.0  47.25\n",
            "3  4.0  69.0  82.0  50.0   NaN  1999.0    5.0  25.0    NaN    NaN\n",
            "4  5.0  31.0  52.0  89.0  51.0  1999.0    4.0  17.0  223.0  55.75\n"
          ],
          "name": "stdout"
        }
      ]
    },
    {
      "cell_type": "code",
      "metadata": {
        "id": "9yUWQT59QIzM",
        "outputId": "7a48d840-4c24-4dca-812b-c03494a359fa"
      },
      "source": [
        "upper = a1.where(np.triu(np.ones(a1.shape), k=1).astype(np.bool))\n",
        "\n",
        "# Find index of feature columns with correlation greater than 0.95\n",
        "to_drop = [column for column in upper.columns if any(upper[column] > 0.95)]\n",
        "print(to_drop)\n",
        "new_df = df1.drop(df1[to_drop], axis=1)"
      ],
      "execution_count": null,
      "outputs": [
        {
          "output_type": "stream",
          "text": [
            "['Perc']\n"
          ],
          "name": "stdout"
        }
      ]
    },
    {
      "cell_type": "code",
      "metadata": {
        "id": "wwDZV4mEQIzP",
        "outputId": "3ce7f695-63a3-4f44-ed9c-9daeab5d279c"
      },
      "source": [
        "new_df"
      ],
      "execution_count": null,
      "outputs": [
        {
          "output_type": "execute_result",
          "data": {
            "text/html": [
              "<div>\n",
              "<style scoped>\n",
              "    .dataframe tbody tr th:only-of-type {\n",
              "        vertical-align: middle;\n",
              "    }\n",
              "\n",
              "    .dataframe tbody tr th {\n",
              "        vertical-align: top;\n",
              "    }\n",
              "\n",
              "    .dataframe thead th {\n",
              "        text-align: right;\n",
              "    }\n",
              "</style>\n",
              "<table border=\"1\" class=\"dataframe\">\n",
              "  <thead>\n",
              "    <tr style=\"text-align: right;\">\n",
              "      <th></th>\n",
              "      <th>ID</th>\n",
              "      <th>Name</th>\n",
              "      <th>IOT</th>\n",
              "      <th>AI</th>\n",
              "      <th>AWP</th>\n",
              "      <th>ST</th>\n",
              "      <th>Year</th>\n",
              "      <th>Month</th>\n",
              "      <th>date</th>\n",
              "      <th>TM</th>\n",
              "    </tr>\n",
              "  </thead>\n",
              "  <tbody>\n",
              "    <tr>\n",
              "      <th>0</th>\n",
              "      <td>1.0</td>\n",
              "      <td>Vaibhav Ambekar</td>\n",
              "      <td>82.0</td>\n",
              "      <td>90.0</td>\n",
              "      <td>84.0</td>\n",
              "      <td>35.0</td>\n",
              "      <td>1997.0</td>\n",
              "      <td>5.0</td>\n",
              "      <td>8.0</td>\n",
              "      <td>291.0</td>\n",
              "    </tr>\n",
              "    <tr>\n",
              "      <th>1</th>\n",
              "      <td>2.0</td>\n",
              "      <td>Prathamesh More</td>\n",
              "      <td>66.0</td>\n",
              "      <td>37.0</td>\n",
              "      <td>59.0</td>\n",
              "      <td>NaN</td>\n",
              "      <td>1995.0</td>\n",
              "      <td>5.0</td>\n",
              "      <td>27.0</td>\n",
              "      <td>NaN</td>\n",
              "    </tr>\n",
              "    <tr>\n",
              "      <th>2</th>\n",
              "      <td>3.0</td>\n",
              "      <td>Bravish Naik</td>\n",
              "      <td>52.0</td>\n",
              "      <td>45.0</td>\n",
              "      <td>39.0</td>\n",
              "      <td>53.0</td>\n",
              "      <td>1995.0</td>\n",
              "      <td>9.0</td>\n",
              "      <td>15.0</td>\n",
              "      <td>189.0</td>\n",
              "    </tr>\n",
              "    <tr>\n",
              "      <th>3</th>\n",
              "      <td>4.0</td>\n",
              "      <td>Pratik Shirke</td>\n",
              "      <td>69.0</td>\n",
              "      <td>82.0</td>\n",
              "      <td>50.0</td>\n",
              "      <td>NaN</td>\n",
              "      <td>1999.0</td>\n",
              "      <td>5.0</td>\n",
              "      <td>25.0</td>\n",
              "      <td>NaN</td>\n",
              "    </tr>\n",
              "    <tr>\n",
              "      <th>4</th>\n",
              "      <td>5.0</td>\n",
              "      <td>Karan Raut</td>\n",
              "      <td>31.0</td>\n",
              "      <td>52.0</td>\n",
              "      <td>89.0</td>\n",
              "      <td>51.0</td>\n",
              "      <td>1999.0</td>\n",
              "      <td>4.0</td>\n",
              "      <td>17.0</td>\n",
              "      <td>223.0</td>\n",
              "    </tr>\n",
              "    <tr>\n",
              "      <th>5</th>\n",
              "      <td>6.0</td>\n",
              "      <td>Amol Patil</td>\n",
              "      <td>34.0</td>\n",
              "      <td>55.0</td>\n",
              "      <td>97.0</td>\n",
              "      <td>49.0</td>\n",
              "      <td>1995.0</td>\n",
              "      <td>11.0</td>\n",
              "      <td>7.0</td>\n",
              "      <td>235.0</td>\n",
              "    </tr>\n",
              "    <tr>\n",
              "      <th>6</th>\n",
              "      <td>7.0</td>\n",
              "      <td>Rutwik Pandit</td>\n",
              "      <td>87.0</td>\n",
              "      <td>0.0</td>\n",
              "      <td>79.0</td>\n",
              "      <td>89.0</td>\n",
              "      <td>1996.0</td>\n",
              "      <td>4.0</td>\n",
              "      <td>6.0</td>\n",
              "      <td>NaN</td>\n",
              "    </tr>\n",
              "    <tr>\n",
              "      <th>7</th>\n",
              "      <td>8.0</td>\n",
              "      <td>Nishant Salvi</td>\n",
              "      <td>63.0</td>\n",
              "      <td>43.0</td>\n",
              "      <td>93.0</td>\n",
              "      <td>33.0</td>\n",
              "      <td>1995.0</td>\n",
              "      <td>1.0</td>\n",
              "      <td>14.0</td>\n",
              "      <td>232.0</td>\n",
              "    </tr>\n",
              "    <tr>\n",
              "      <th>8</th>\n",
              "      <td>9.0</td>\n",
              "      <td>Vaishnavi Kantulwar</td>\n",
              "      <td>50.0</td>\n",
              "      <td>161.0</td>\n",
              "      <td>89.0</td>\n",
              "      <td>35.0</td>\n",
              "      <td>1998.0</td>\n",
              "      <td>1.0</td>\n",
              "      <td>13.0</td>\n",
              "      <td>335.0</td>\n",
              "    </tr>\n",
              "    <tr>\n",
              "      <th>9</th>\n",
              "      <td>10.0</td>\n",
              "      <td>Sonali Jadhav</td>\n",
              "      <td>79.0</td>\n",
              "      <td>NaN</td>\n",
              "      <td>59.0</td>\n",
              "      <td>90.0</td>\n",
              "      <td>1997.0</td>\n",
              "      <td>7.0</td>\n",
              "      <td>5.0</td>\n",
              "      <td>NaN</td>\n",
              "    </tr>\n",
              "    <tr>\n",
              "      <th>10</th>\n",
              "      <td>11.0</td>\n",
              "      <td>Yogesh Dhote</td>\n",
              "      <td>64.0</td>\n",
              "      <td>75.0</td>\n",
              "      <td>95.0</td>\n",
              "      <td>37.0</td>\n",
              "      <td>1999.0</td>\n",
              "      <td>8.0</td>\n",
              "      <td>5.0</td>\n",
              "      <td>271.0</td>\n",
              "    </tr>\n",
              "    <tr>\n",
              "      <th>11</th>\n",
              "      <td>12.0</td>\n",
              "      <td>Karan Raut</td>\n",
              "      <td>75.0</td>\n",
              "      <td>35.0</td>\n",
              "      <td>51.0</td>\n",
              "      <td>40.0</td>\n",
              "      <td>1997.0</td>\n",
              "      <td>5.0</td>\n",
              "      <td>15.0</td>\n",
              "      <td>201.0</td>\n",
              "    </tr>\n",
              "    <tr>\n",
              "      <th>12</th>\n",
              "      <td>13.0</td>\n",
              "      <td>Ankita Parab</td>\n",
              "      <td>73.0</td>\n",
              "      <td>60.0</td>\n",
              "      <td>70.0</td>\n",
              "      <td>37.0</td>\n",
              "      <td>1997.0</td>\n",
              "      <td>10.0</td>\n",
              "      <td>27.0</td>\n",
              "      <td>240.0</td>\n",
              "    </tr>\n",
              "    <tr>\n",
              "      <th>13</th>\n",
              "      <td>14.0</td>\n",
              "      <td>Pratiksha Bramhane</td>\n",
              "      <td>39.0</td>\n",
              "      <td>53.0</td>\n",
              "      <td>53.0</td>\n",
              "      <td>58.0</td>\n",
              "      <td>1995.0</td>\n",
              "      <td>8.0</td>\n",
              "      <td>24.0</td>\n",
              "      <td>203.0</td>\n",
              "    </tr>\n",
              "    <tr>\n",
              "      <th>14</th>\n",
              "      <td>15.0</td>\n",
              "      <td>Shubhangi More</td>\n",
              "      <td>79.0</td>\n",
              "      <td>33.0</td>\n",
              "      <td>0.0</td>\n",
              "      <td>75.0</td>\n",
              "      <td>1998.0</td>\n",
              "      <td>3.0</td>\n",
              "      <td>6.0</td>\n",
              "      <td>NaN</td>\n",
              "    </tr>\n",
              "    <tr>\n",
              "      <th>15</th>\n",
              "      <td>16.0</td>\n",
              "      <td>Dyuti Naidu</td>\n",
              "      <td>80.0</td>\n",
              "      <td>34.0</td>\n",
              "      <td>74.0</td>\n",
              "      <td>91.0</td>\n",
              "      <td>1996.0</td>\n",
              "      <td>10.0</td>\n",
              "      <td>27.0</td>\n",
              "      <td>279.0</td>\n",
              "    </tr>\n",
              "    <tr>\n",
              "      <th>16</th>\n",
              "      <td>17.0</td>\n",
              "      <td>Rahul Gupta</td>\n",
              "      <td>67.0</td>\n",
              "      <td>69.0</td>\n",
              "      <td>41.0</td>\n",
              "      <td>93.0</td>\n",
              "      <td>1995.0</td>\n",
              "      <td>7.0</td>\n",
              "      <td>1.0</td>\n",
              "      <td>270.0</td>\n",
              "    </tr>\n",
              "    <tr>\n",
              "      <th>17</th>\n",
              "      <td>18.0</td>\n",
              "      <td>Priyanshu Singh</td>\n",
              "      <td>91.0</td>\n",
              "      <td>53.0</td>\n",
              "      <td>33.0</td>\n",
              "      <td>38.0</td>\n",
              "      <td>1997.0</td>\n",
              "      <td>11.0</td>\n",
              "      <td>24.0</td>\n",
              "      <td>215.0</td>\n",
              "    </tr>\n",
              "    <tr>\n",
              "      <th>18</th>\n",
              "      <td>19.0</td>\n",
              "      <td>Mitesh Jaiswal</td>\n",
              "      <td>55.0</td>\n",
              "      <td>89.0</td>\n",
              "      <td>93.0</td>\n",
              "      <td>38.0</td>\n",
              "      <td>1998.0</td>\n",
              "      <td>9.0</td>\n",
              "      <td>9.0</td>\n",
              "      <td>275.0</td>\n",
              "    </tr>\n",
              "    <tr>\n",
              "      <th>19</th>\n",
              "      <td>20.0</td>\n",
              "      <td>Aditya Nivate</td>\n",
              "      <td>161.0</td>\n",
              "      <td>87.0</td>\n",
              "      <td>48.0</td>\n",
              "      <td>NaN</td>\n",
              "      <td>1998.0</td>\n",
              "      <td>11.0</td>\n",
              "      <td>14.0</td>\n",
              "      <td>NaN</td>\n",
              "    </tr>\n",
              "    <tr>\n",
              "      <th>20</th>\n",
              "      <td>21.0</td>\n",
              "      <td>Narendra Chawda</td>\n",
              "      <td>85.0</td>\n",
              "      <td>91.0</td>\n",
              "      <td>43.0</td>\n",
              "      <td>94.0</td>\n",
              "      <td>1999.0</td>\n",
              "      <td>9.0</td>\n",
              "      <td>24.0</td>\n",
              "      <td>313.0</td>\n",
              "    </tr>\n",
              "    <tr>\n",
              "      <th>21</th>\n",
              "      <td>22.0</td>\n",
              "      <td>Prakash Saini</td>\n",
              "      <td>65.0</td>\n",
              "      <td>50.0</td>\n",
              "      <td>87.0</td>\n",
              "      <td>41.0</td>\n",
              "      <td>1997.0</td>\n",
              "      <td>11.0</td>\n",
              "      <td>4.0</td>\n",
              "      <td>243.0</td>\n",
              "    </tr>\n",
              "    <tr>\n",
              "      <th>22</th>\n",
              "      <td>23.0</td>\n",
              "      <td>Ganesh Nadar</td>\n",
              "      <td>96.0</td>\n",
              "      <td>39.0</td>\n",
              "      <td>65.0</td>\n",
              "      <td>55.0</td>\n",
              "      <td>1995.0</td>\n",
              "      <td>8.0</td>\n",
              "      <td>10.0</td>\n",
              "      <td>255.0</td>\n",
              "    </tr>\n",
              "    <tr>\n",
              "      <th>23</th>\n",
              "      <td>24.0</td>\n",
              "      <td>Riddhesh Shah</td>\n",
              "      <td>65.0</td>\n",
              "      <td>45.0</td>\n",
              "      <td>63.0</td>\n",
              "      <td>32.0</td>\n",
              "      <td>1999.0</td>\n",
              "      <td>3.0</td>\n",
              "      <td>20.0</td>\n",
              "      <td>205.0</td>\n",
              "    </tr>\n",
              "    <tr>\n",
              "      <th>24</th>\n",
              "      <td>25.0</td>\n",
              "      <td>Siddharth Sharma</td>\n",
              "      <td>72.0</td>\n",
              "      <td>82.0</td>\n",
              "      <td>84.0</td>\n",
              "      <td>40.0</td>\n",
              "      <td>1996.0</td>\n",
              "      <td>11.0</td>\n",
              "      <td>26.0</td>\n",
              "      <td>278.0</td>\n",
              "    </tr>\n",
              "    <tr>\n",
              "      <th>25</th>\n",
              "      <td>26.0</td>\n",
              "      <td>Arbaaz Vadnagara</td>\n",
              "      <td>72.0</td>\n",
              "      <td>42.0</td>\n",
              "      <td>40.0</td>\n",
              "      <td>70.0</td>\n",
              "      <td>1999.0</td>\n",
              "      <td>7.0</td>\n",
              "      <td>12.0</td>\n",
              "      <td>224.0</td>\n",
              "    </tr>\n",
              "    <tr>\n",
              "      <th>26</th>\n",
              "      <td>27.0</td>\n",
              "      <td>Krunal Shinde</td>\n",
              "      <td>56.0</td>\n",
              "      <td>78.0</td>\n",
              "      <td>78.0</td>\n",
              "      <td>82.0</td>\n",
              "      <td>1999.0</td>\n",
              "      <td>6.0</td>\n",
              "      <td>18.0</td>\n",
              "      <td>294.0</td>\n",
              "    </tr>\n",
              "    <tr>\n",
              "      <th>27</th>\n",
              "      <td>28.0</td>\n",
              "      <td>Mohammed Malpara</td>\n",
              "      <td>45.0</td>\n",
              "      <td>66.0</td>\n",
              "      <td>32.0</td>\n",
              "      <td>79.0</td>\n",
              "      <td>1996.0</td>\n",
              "      <td>2.0</td>\n",
              "      <td>19.0</td>\n",
              "      <td>222.0</td>\n",
              "    </tr>\n",
              "    <tr>\n",
              "      <th>28</th>\n",
              "      <td>29.0</td>\n",
              "      <td>Vivek Sharma</td>\n",
              "      <td>70.0</td>\n",
              "      <td>0.0</td>\n",
              "      <td>76.0</td>\n",
              "      <td>32.0</td>\n",
              "      <td>1997.0</td>\n",
              "      <td>10.0</td>\n",
              "      <td>20.0</td>\n",
              "      <td>NaN</td>\n",
              "    </tr>\n",
              "    <tr>\n",
              "      <th>29</th>\n",
              "      <td>30.0</td>\n",
              "      <td>Ravi Sharama</td>\n",
              "      <td>74.0</td>\n",
              "      <td>31.0</td>\n",
              "      <td>76.0</td>\n",
              "      <td>87.0</td>\n",
              "      <td>1998.0</td>\n",
              "      <td>2.0</td>\n",
              "      <td>9.0</td>\n",
              "      <td>268.0</td>\n",
              "    </tr>\n",
              "    <tr>\n",
              "      <th>30</th>\n",
              "      <td>31.0</td>\n",
              "      <td>Rajdev Karan</td>\n",
              "      <td>68.0</td>\n",
              "      <td>53.0</td>\n",
              "      <td>74.0</td>\n",
              "      <td>42.0</td>\n",
              "      <td>1995.0</td>\n",
              "      <td>4.0</td>\n",
              "      <td>1.0</td>\n",
              "      <td>237.0</td>\n",
              "    </tr>\n",
              "    <tr>\n",
              "      <th>31</th>\n",
              "      <td>32.0</td>\n",
              "      <td>Ravikant Vishwakarma</td>\n",
              "      <td>60.0</td>\n",
              "      <td>73.0</td>\n",
              "      <td>60.0</td>\n",
              "      <td>33.0</td>\n",
              "      <td>1997.0</td>\n",
              "      <td>8.0</td>\n",
              "      <td>13.0</td>\n",
              "      <td>226.0</td>\n",
              "    </tr>\n",
              "    <tr>\n",
              "      <th>32</th>\n",
              "      <td>33.0</td>\n",
              "      <td>Jeet Daga</td>\n",
              "      <td>64.0</td>\n",
              "      <td>75.0</td>\n",
              "      <td>56.0</td>\n",
              "      <td>79.0</td>\n",
              "      <td>1999.0</td>\n",
              "      <td>4.0</td>\n",
              "      <td>1.0</td>\n",
              "      <td>274.0</td>\n",
              "    </tr>\n",
              "    <tr>\n",
              "      <th>33</th>\n",
              "      <td>34.0</td>\n",
              "      <td>Jitendra Varma</td>\n",
              "      <td>88.0</td>\n",
              "      <td>43.0</td>\n",
              "      <td>52.0</td>\n",
              "      <td>62.0</td>\n",
              "      <td>1998.0</td>\n",
              "      <td>6.0</td>\n",
              "      <td>8.0</td>\n",
              "      <td>245.0</td>\n",
              "    </tr>\n",
              "    <tr>\n",
              "      <th>34</th>\n",
              "      <td>35.0</td>\n",
              "      <td>Jayesh Das</td>\n",
              "      <td>64.0</td>\n",
              "      <td>85.0</td>\n",
              "      <td>86.0</td>\n",
              "      <td>43.0</td>\n",
              "      <td>1997.0</td>\n",
              "      <td>9.0</td>\n",
              "      <td>15.0</td>\n",
              "      <td>278.0</td>\n",
              "    </tr>\n",
              "    <tr>\n",
              "      <th>35</th>\n",
              "      <td>36.0</td>\n",
              "      <td>Aniket Gupta</td>\n",
              "      <td>49.0</td>\n",
              "      <td>76.0</td>\n",
              "      <td>46.0</td>\n",
              "      <td>95.0</td>\n",
              "      <td>1997.0</td>\n",
              "      <td>7.0</td>\n",
              "      <td>3.0</td>\n",
              "      <td>266.0</td>\n",
              "    </tr>\n",
              "    <tr>\n",
              "      <th>36</th>\n",
              "      <td>37.0</td>\n",
              "      <td>Meha James</td>\n",
              "      <td>79.0</td>\n",
              "      <td>87.0</td>\n",
              "      <td>51.0</td>\n",
              "      <td>42.0</td>\n",
              "      <td>1995.0</td>\n",
              "      <td>4.0</td>\n",
              "      <td>5.0</td>\n",
              "      <td>259.0</td>\n",
              "    </tr>\n",
              "    <tr>\n",
              "      <th>37</th>\n",
              "      <td>38.0</td>\n",
              "      <td>Adarsh Joshi</td>\n",
              "      <td>57.0</td>\n",
              "      <td>57.0</td>\n",
              "      <td>52.0</td>\n",
              "      <td>80.0</td>\n",
              "      <td>1996.0</td>\n",
              "      <td>11.0</td>\n",
              "      <td>5.0</td>\n",
              "      <td>246.0</td>\n",
              "    </tr>\n",
              "    <tr>\n",
              "      <th>38</th>\n",
              "      <td>39.0</td>\n",
              "      <td>Bhavna Mishra</td>\n",
              "      <td>84.0</td>\n",
              "      <td>64.0</td>\n",
              "      <td>47.0</td>\n",
              "      <td>65.0</td>\n",
              "      <td>1998.0</td>\n",
              "      <td>2.0</td>\n",
              "      <td>7.0</td>\n",
              "      <td>260.0</td>\n",
              "    </tr>\n",
              "    <tr>\n",
              "      <th>39</th>\n",
              "      <td>40.0</td>\n",
              "      <td>Shreekant Kadam</td>\n",
              "      <td>43.0</td>\n",
              "      <td>68.0</td>\n",
              "      <td>52.0</td>\n",
              "      <td>142.0</td>\n",
              "      <td>1999.0</td>\n",
              "      <td>8.0</td>\n",
              "      <td>23.0</td>\n",
              "      <td>305.0</td>\n",
              "    </tr>\n",
              "  </tbody>\n",
              "</table>\n",
              "</div>"
            ],
            "text/plain": [
              "      ID                  Name    IOT     AI   AWP     ST    Year  Month  \\\n",
              "0    1.0       Vaibhav Ambekar   82.0   90.0  84.0   35.0  1997.0    5.0   \n",
              "1    2.0       Prathamesh More   66.0   37.0  59.0    NaN  1995.0    5.0   \n",
              "2    3.0          Bravish Naik   52.0   45.0  39.0   53.0  1995.0    9.0   \n",
              "3    4.0         Pratik Shirke   69.0   82.0  50.0    NaN  1999.0    5.0   \n",
              "4    5.0            Karan Raut   31.0   52.0  89.0   51.0  1999.0    4.0   \n",
              "5    6.0           Amol Patil    34.0   55.0  97.0   49.0  1995.0   11.0   \n",
              "6    7.0         Rutwik Pandit   87.0    0.0  79.0   89.0  1996.0    4.0   \n",
              "7    8.0         Nishant Salvi   63.0   43.0  93.0   33.0  1995.0    1.0   \n",
              "8    9.0   Vaishnavi Kantulwar   50.0  161.0  89.0   35.0  1998.0    1.0   \n",
              "9   10.0         Sonali Jadhav   79.0    NaN  59.0   90.0  1997.0    7.0   \n",
              "10  11.0          Yogesh Dhote   64.0   75.0  95.0   37.0  1999.0    8.0   \n",
              "11  12.0           Karan Raut    75.0   35.0  51.0   40.0  1997.0    5.0   \n",
              "12  13.0          Ankita Parab   73.0   60.0  70.0   37.0  1997.0   10.0   \n",
              "13  14.0    Pratiksha Bramhane   39.0   53.0  53.0   58.0  1995.0    8.0   \n",
              "14  15.0        Shubhangi More   79.0   33.0   0.0   75.0  1998.0    3.0   \n",
              "15  16.0           Dyuti Naidu   80.0   34.0  74.0   91.0  1996.0   10.0   \n",
              "16  17.0           Rahul Gupta   67.0   69.0  41.0   93.0  1995.0    7.0   \n",
              "17  18.0       Priyanshu Singh   91.0   53.0  33.0   38.0  1997.0   11.0   \n",
              "18  19.0        Mitesh Jaiswal   55.0   89.0  93.0   38.0  1998.0    9.0   \n",
              "19  20.0         Aditya Nivate  161.0   87.0  48.0    NaN  1998.0   11.0   \n",
              "20  21.0       Narendra Chawda   85.0   91.0  43.0   94.0  1999.0    9.0   \n",
              "21  22.0         Prakash Saini   65.0   50.0  87.0   41.0  1997.0   11.0   \n",
              "22  23.0          Ganesh Nadar   96.0   39.0  65.0   55.0  1995.0    8.0   \n",
              "23  24.0         Riddhesh Shah   65.0   45.0  63.0   32.0  1999.0    3.0   \n",
              "24  25.0      Siddharth Sharma   72.0   82.0  84.0   40.0  1996.0   11.0   \n",
              "25  26.0      Arbaaz Vadnagara   72.0   42.0  40.0   70.0  1999.0    7.0   \n",
              "26  27.0         Krunal Shinde   56.0   78.0  78.0   82.0  1999.0    6.0   \n",
              "27  28.0      Mohammed Malpara   45.0   66.0  32.0   79.0  1996.0    2.0   \n",
              "28  29.0          Vivek Sharma   70.0    0.0  76.0   32.0  1997.0   10.0   \n",
              "29  30.0          Ravi Sharama   74.0   31.0  76.0   87.0  1998.0    2.0   \n",
              "30  31.0          Rajdev Karan   68.0   53.0  74.0   42.0  1995.0    4.0   \n",
              "31  32.0  Ravikant Vishwakarma   60.0   73.0  60.0   33.0  1997.0    8.0   \n",
              "32  33.0             Jeet Daga   64.0   75.0  56.0   79.0  1999.0    4.0   \n",
              "33  34.0        Jitendra Varma   88.0   43.0  52.0   62.0  1998.0    6.0   \n",
              "34  35.0            Jayesh Das   64.0   85.0  86.0   43.0  1997.0    9.0   \n",
              "35  36.0          Aniket Gupta   49.0   76.0  46.0   95.0  1997.0    7.0   \n",
              "36  37.0            Meha James   79.0   87.0  51.0   42.0  1995.0    4.0   \n",
              "37  38.0          Adarsh Joshi   57.0   57.0  52.0   80.0  1996.0   11.0   \n",
              "38  39.0         Bhavna Mishra   84.0   64.0  47.0   65.0  1998.0    2.0   \n",
              "39  40.0       Shreekant Kadam   43.0   68.0  52.0  142.0  1999.0    8.0   \n",
              "\n",
              "    date     TM  \n",
              "0    8.0  291.0  \n",
              "1   27.0    NaN  \n",
              "2   15.0  189.0  \n",
              "3   25.0    NaN  \n",
              "4   17.0  223.0  \n",
              "5    7.0  235.0  \n",
              "6    6.0    NaN  \n",
              "7   14.0  232.0  \n",
              "8   13.0  335.0  \n",
              "9    5.0    NaN  \n",
              "10   5.0  271.0  \n",
              "11  15.0  201.0  \n",
              "12  27.0  240.0  \n",
              "13  24.0  203.0  \n",
              "14   6.0    NaN  \n",
              "15  27.0  279.0  \n",
              "16   1.0  270.0  \n",
              "17  24.0  215.0  \n",
              "18   9.0  275.0  \n",
              "19  14.0    NaN  \n",
              "20  24.0  313.0  \n",
              "21   4.0  243.0  \n",
              "22  10.0  255.0  \n",
              "23  20.0  205.0  \n",
              "24  26.0  278.0  \n",
              "25  12.0  224.0  \n",
              "26  18.0  294.0  \n",
              "27  19.0  222.0  \n",
              "28  20.0    NaN  \n",
              "29   9.0  268.0  \n",
              "30   1.0  237.0  \n",
              "31  13.0  226.0  \n",
              "32   1.0  274.0  \n",
              "33   8.0  245.0  \n",
              "34  15.0  278.0  \n",
              "35   3.0  266.0  \n",
              "36   5.0  259.0  \n",
              "37   5.0  246.0  \n",
              "38   7.0  260.0  \n",
              "39  23.0  305.0  "
            ]
          },
          "metadata": {
            "tags": []
          },
          "execution_count": 24
        }
      ]
    },
    {
      "cell_type": "code",
      "metadata": {
        "id": "3_mEoxJWQIzR"
      },
      "source": [
        "new_df.to_csv(\"editedmarks.csv\")"
      ],
      "execution_count": null,
      "outputs": []
    },
    {
      "cell_type": "code",
      "metadata": {
        "collapsed": true,
        "id": "DKxuo70EQIzT",
        "outputId": "afe485a9-794f-4792-e4f7-5811471d4852"
      },
      "source": [
        "##############################SEND TO API########################"
      ],
      "execution_count": null,
      "outputs": [
        {
          "output_type": "execute_result",
          "data": {
            "text/plain": [
              "ID                5\n",
              "Name     Karan Raut\n",
              "IOT              31\n",
              "AI               52\n",
              "AWP              89\n",
              "ST               51\n",
              "Year           1999\n",
              "Month             4\n",
              "date             17\n",
              "TM              223\n",
              "Perc          55.75\n",
              "Name: 4, dtype: object"
            ]
          },
          "metadata": {
            "tags": []
          },
          "execution_count": 23
        }
      ]
    },
    {
      "cell_type": "code",
      "metadata": {
        "id": "RL9P7T99QIzW"
      },
      "source": [
        "#Load dependencies\n",
        "import pandas as pd\n",
        "import numpy as np\n",
        "from sklearn.preprocessing import StandardScaler\n",
        "from matplotlib import*\n",
        "import matplotlib.pyplot as plt\n",
        "from matplotlib.cm import register_cmap\n",
        "from scipy import stats\n",
        "#from wpca import PCA\n",
        "#from sklearn.decomposition import PCA as sklearnPCA\n",
        "from sklearn.decomposition import PCA\n",
        "import seaborn"
      ],
      "execution_count": null,
      "outputs": []
    },
    {
      "cell_type": "code",
      "metadata": {
        "id": "Jb4zDTk7QIzZ"
      },
      "source": [
        "result=  list(df1.dtypes)"
      ],
      "execution_count": null,
      "outputs": []
    },
    {
      "cell_type": "code",
      "metadata": {
        "id": "DuYycRTUQIzb",
        "outputId": "4b6c79ba-f523-41d2-c7d3-edfbb9aebc91"
      },
      "source": [
        "df2 = df1.select_dtypes(exclude=['object'])\n",
        "print(df2)"
      ],
      "execution_count": null,
      "outputs": [
        {
          "output_type": "stream",
          "text": [
            "      ID    IOT     AI   AWP     ST    Year  Month  date     TM   Perc\n",
            "0    1.0   82.0   90.0  84.0   35.0  1997.0    5.0   8.0  291.0  72.75\n",
            "1    2.0   66.0   37.0  59.0    NaN  1995.0    5.0  27.0    NaN    NaN\n",
            "2    3.0   52.0   45.0  39.0   53.0  1995.0    9.0  15.0  189.0  47.25\n",
            "3    4.0   69.0   82.0  50.0    NaN  1999.0    5.0  25.0    NaN    NaN\n",
            "4    5.0   31.0   52.0  89.0   51.0  1999.0    4.0  17.0  223.0  55.75\n",
            "5    6.0   34.0   55.0  97.0   49.0  1995.0   11.0   7.0  235.0  58.75\n",
            "6    7.0   87.0    0.0  79.0   89.0  1996.0    4.0   6.0    NaN    NaN\n",
            "7    8.0   63.0   43.0  93.0   33.0  1995.0    1.0  14.0  232.0  58.00\n",
            "8    9.0   50.0  161.0  89.0   35.0  1998.0    1.0  13.0  335.0  83.75\n",
            "9   10.0   79.0    NaN  59.0   90.0  1997.0    7.0   5.0    NaN    NaN\n",
            "10  11.0   64.0   75.0  95.0   37.0  1999.0    8.0   5.0  271.0  67.75\n",
            "11  12.0   75.0   35.0  51.0   40.0  1997.0    5.0  15.0  201.0  50.25\n",
            "12  13.0   73.0   60.0  70.0   37.0  1997.0   10.0  27.0  240.0  60.00\n",
            "13  14.0   39.0   53.0  53.0   58.0  1995.0    8.0  24.0  203.0  50.75\n",
            "14  15.0   79.0   33.0   0.0   75.0  1998.0    3.0   6.0    NaN    NaN\n",
            "15  16.0   80.0   34.0  74.0   91.0  1996.0   10.0  27.0  279.0  69.75\n",
            "16  17.0   67.0   69.0  41.0   93.0  1995.0    7.0   1.0  270.0  67.50\n",
            "17  18.0   91.0   53.0  33.0   38.0  1997.0   11.0  24.0  215.0  53.75\n",
            "18  19.0   55.0   89.0  93.0   38.0  1998.0    9.0   9.0  275.0  68.75\n",
            "19  20.0  161.0   87.0  48.0    NaN  1998.0   11.0  14.0    NaN    NaN\n",
            "20  21.0   85.0   91.0  43.0   94.0  1999.0    9.0  24.0  313.0  78.25\n",
            "21  22.0   65.0   50.0  87.0   41.0  1997.0   11.0   4.0  243.0  60.75\n",
            "22  23.0   96.0   39.0  65.0   55.0  1995.0    8.0  10.0  255.0  63.75\n",
            "23  24.0   65.0   45.0  63.0   32.0  1999.0    3.0  20.0  205.0  51.25\n",
            "24  25.0   72.0   82.0  84.0   40.0  1996.0   11.0  26.0  278.0  69.50\n",
            "25  26.0   72.0   42.0  40.0   70.0  1999.0    7.0  12.0  224.0  56.00\n",
            "26  27.0   56.0   78.0  78.0   82.0  1999.0    6.0  18.0  294.0  73.50\n",
            "27  28.0   45.0   66.0  32.0   79.0  1996.0    2.0  19.0  222.0  55.50\n",
            "28  29.0   70.0    0.0  76.0   32.0  1997.0   10.0  20.0    NaN    NaN\n",
            "29  30.0   74.0   31.0  76.0   87.0  1998.0    2.0   9.0  268.0  67.00\n",
            "30  31.0   68.0   53.0  74.0   42.0  1995.0    4.0   1.0  237.0  59.25\n",
            "31  32.0   60.0   73.0  60.0   33.0  1997.0    8.0  13.0  226.0  56.50\n",
            "32  33.0   64.0   75.0  56.0   79.0  1999.0    4.0   1.0  274.0  68.50\n",
            "33  34.0   88.0   43.0  52.0   62.0  1998.0    6.0   8.0  245.0  61.25\n",
            "34  35.0   64.0   85.0  86.0   43.0  1997.0    9.0  15.0  278.0  69.50\n",
            "35  36.0   49.0   76.0  46.0   95.0  1997.0    7.0   3.0  266.0  66.50\n",
            "36  37.0   79.0   87.0  51.0   42.0  1995.0    4.0   5.0  259.0  64.75\n",
            "37  38.0   57.0   57.0  52.0   80.0  1996.0   11.0   5.0  246.0  61.50\n",
            "38  39.0   84.0   64.0  47.0   65.0  1998.0    2.0   7.0  260.0  65.00\n",
            "39  40.0   43.0   68.0  52.0  142.0  1999.0    8.0  23.0  305.0  76.25\n"
          ],
          "name": "stdout"
        }
      ]
    },
    {
      "cell_type": "code",
      "metadata": {
        "id": "h46dwnxTQIzd"
      },
      "source": [
        "df3=df2.replace(np.nan, 0, regex=True)"
      ],
      "execution_count": null,
      "outputs": []
    },
    {
      "cell_type": "code",
      "metadata": {
        "id": "rIlQRnzqQIzf",
        "outputId": "e5495bd0-7554-4615-8afe-e6bbfac7eb20"
      },
      "source": [
        "headers=list(df2.columns)\n",
        "headers"
      ],
      "execution_count": null,
      "outputs": [
        {
          "output_type": "execute_result",
          "data": {
            "text/plain": [
              "['ID', 'IOT', 'AI', 'AWP', 'ST', 'Year', 'Month', 'date', 'TM', 'Perc']"
            ]
          },
          "metadata": {
            "tags": []
          },
          "execution_count": 30
        }
      ]
    },
    {
      "cell_type": "code",
      "metadata": {
        "id": "8S3raSC-QIzh",
        "outputId": "0514dcce-62fb-425d-8bd4-a60040c07c7f"
      },
      "source": [
        "headers.remove('Year')\n",
        "headers"
      ],
      "execution_count": null,
      "outputs": [
        {
          "output_type": "execute_result",
          "data": {
            "text/plain": [
              "['ID', 'IOT', 'AI', 'AWP', 'ST', 'Month', 'date', 'TM', 'Perc']"
            ]
          },
          "metadata": {
            "tags": []
          },
          "execution_count": 31
        }
      ]
    },
    {
      "cell_type": "code",
      "metadata": {
        "id": "1fqC2TYnQIzk"
      },
      "source": [
        "x = df3.loc[:, headers].values\n",
        "\n",
        "y = df3.loc[:, ['Year']].values\n",
        "\n",
        "x = StandardScaler().fit_transform(x)"
      ],
      "execution_count": null,
      "outputs": []
    },
    {
      "cell_type": "code",
      "metadata": {
        "id": "cRlk9T3gQIzm",
        "outputId": "91e14d82-beec-4e7f-dc96-884e9adc52d3"
      },
      "source": [
        "a"
      ],
      "execution_count": null,
      "outputs": [
        {
          "output_type": "execute_result",
          "data": {
            "text/plain": [
              "0"
            ]
          },
          "metadata": {
            "tags": []
          },
          "execution_count": 33
        }
      ]
    },
    {
      "cell_type": "code",
      "metadata": {
        "id": "gyiECcVRQIzo"
      },
      "source": [
        "pca = PCA(n_components=2)\n",
        "\n",
        "principalComponents = pca.fit_transform(x)\n",
        "\n",
        "principalDataframe = pd.DataFrame(data = principalComponents, columns = ['PC1', 'PC2'])"
      ],
      "execution_count": null,
      "outputs": []
    },
    {
      "cell_type": "code",
      "metadata": {
        "id": "da9OFbUMQIzr"
      },
      "source": [
        "targetDataframe = df[['Year']]\n",
        "\n",
        "pcadf = pd.concat([principalDataframe, targetDataframe],axis = 1)"
      ],
      "execution_count": null,
      "outputs": []
    },
    {
      "cell_type": "code",
      "metadata": {
        "id": "MocJL11PQIzt",
        "outputId": "b619388c-699a-4f36-822b-4141940b241a"
      },
      "source": [
        "pcadf"
      ],
      "execution_count": null,
      "outputs": [
        {
          "output_type": "execute_result",
          "data": {
            "text/html": [
              "<div>\n",
              "<style scoped>\n",
              "    .dataframe tbody tr th:only-of-type {\n",
              "        vertical-align: middle;\n",
              "    }\n",
              "\n",
              "    .dataframe tbody tr th {\n",
              "        vertical-align: top;\n",
              "    }\n",
              "\n",
              "    .dataframe thead th {\n",
              "        text-align: right;\n",
              "    }\n",
              "</style>\n",
              "<table border=\"1\" class=\"dataframe\">\n",
              "  <thead>\n",
              "    <tr style=\"text-align: right;\">\n",
              "      <th></th>\n",
              "      <th>PC1</th>\n",
              "      <th>PC2</th>\n",
              "      <th>Year</th>\n",
              "    </tr>\n",
              "  </thead>\n",
              "  <tbody>\n",
              "    <tr>\n",
              "      <th>0</th>\n",
              "      <td>-0.746320</td>\n",
              "      <td>-1.755386</td>\n",
              "      <td>1997</td>\n",
              "    </tr>\n",
              "    <tr>\n",
              "      <th>1</th>\n",
              "      <td>3.636795</td>\n",
              "      <td>-1.697928</td>\n",
              "      <td>1995</td>\n",
              "    </tr>\n",
              "    <tr>\n",
              "      <th>2</th>\n",
              "      <td>0.823197</td>\n",
              "      <td>-0.270643</td>\n",
              "      <td>1995</td>\n",
              "    </tr>\n",
              "    <tr>\n",
              "      <th>3</th>\n",
              "      <td>3.150495</td>\n",
              "      <td>-1.771546</td>\n",
              "      <td>1999</td>\n",
              "    </tr>\n",
              "    <tr>\n",
              "      <th>4</th>\n",
              "      <td>-0.348075</td>\n",
              "      <td>-1.523611</td>\n",
              "      <td>1999</td>\n",
              "    </tr>\n",
              "    <tr>\n",
              "      <th>5</th>\n",
              "      <td>-0.630588</td>\n",
              "      <td>-1.622132</td>\n",
              "      <td>1995</td>\n",
              "    </tr>\n",
              "    <tr>\n",
              "      <th>6</th>\n",
              "      <td>3.074049</td>\n",
              "      <td>1.047436</td>\n",
              "      <td>1996</td>\n",
              "    </tr>\n",
              "    <tr>\n",
              "      <th>7</th>\n",
              "      <td>0.051674</td>\n",
              "      <td>-1.345509</td>\n",
              "      <td>1995</td>\n",
              "    </tr>\n",
              "    <tr>\n",
              "      <th>8</th>\n",
              "      <td>-2.668714</td>\n",
              "      <td>-2.546135</td>\n",
              "      <td>1998</td>\n",
              "    </tr>\n",
              "    <tr>\n",
              "      <th>9</th>\n",
              "      <td>3.060331</td>\n",
              "      <td>1.541913</td>\n",
              "      <td>1997</td>\n",
              "    </tr>\n",
              "    <tr>\n",
              "      <th>10</th>\n",
              "      <td>-0.931047</td>\n",
              "      <td>-1.491797</td>\n",
              "      <td>1999</td>\n",
              "    </tr>\n",
              "    <tr>\n",
              "      <th>11</th>\n",
              "      <td>0.875267</td>\n",
              "      <td>-0.068282</td>\n",
              "      <td>1997</td>\n",
              "    </tr>\n",
              "    <tr>\n",
              "      <th>12</th>\n",
              "      <td>0.163690</td>\n",
              "      <td>-1.528218</td>\n",
              "      <td>1997</td>\n",
              "    </tr>\n",
              "    <tr>\n",
              "      <th>13</th>\n",
              "      <td>0.111455</td>\n",
              "      <td>-0.553497</td>\n",
              "      <td>1995</td>\n",
              "    </tr>\n",
              "    <tr>\n",
              "      <th>14</th>\n",
              "      <td>3.132370</td>\n",
              "      <td>2.648523</td>\n",
              "      <td>1998</td>\n",
              "    </tr>\n",
              "    <tr>\n",
              "      <th>15</th>\n",
              "      <td>-0.412044</td>\n",
              "      <td>-0.242527</td>\n",
              "      <td>1996</td>\n",
              "    </tr>\n",
              "    <tr>\n",
              "      <th>16</th>\n",
              "      <td>-1.027167</td>\n",
              "      <td>1.354881</td>\n",
              "      <td>1995</td>\n",
              "    </tr>\n",
              "    <tr>\n",
              "      <th>17</th>\n",
              "      <td>0.897051</td>\n",
              "      <td>-0.149838</td>\n",
              "      <td>1997</td>\n",
              "    </tr>\n",
              "    <tr>\n",
              "      <th>18</th>\n",
              "      <td>-1.372139</td>\n",
              "      <td>-1.498122</td>\n",
              "      <td>1998</td>\n",
              "    </tr>\n",
              "    <tr>\n",
              "      <th>19</th>\n",
              "      <td>3.829378</td>\n",
              "      <td>-0.450289</td>\n",
              "      <td>1998</td>\n",
              "    </tr>\n",
              "    <tr>\n",
              "      <th>20</th>\n",
              "      <td>-1.333149</td>\n",
              "      <td>0.308063</td>\n",
              "      <td>1999</td>\n",
              "    </tr>\n",
              "    <tr>\n",
              "      <th>21</th>\n",
              "      <td>-0.525593</td>\n",
              "      <td>-0.565071</td>\n",
              "      <td>1997</td>\n",
              "    </tr>\n",
              "    <tr>\n",
              "      <th>22</th>\n",
              "      <td>-0.033966</td>\n",
              "      <td>0.401064</td>\n",
              "      <td>1995</td>\n",
              "    </tr>\n",
              "    <tr>\n",
              "      <th>23</th>\n",
              "      <td>0.328157</td>\n",
              "      <td>-0.298840</td>\n",
              "      <td>1999</td>\n",
              "    </tr>\n",
              "    <tr>\n",
              "      <th>24</th>\n",
              "      <td>-0.949456</td>\n",
              "      <td>-1.601820</td>\n",
              "      <td>1996</td>\n",
              "    </tr>\n",
              "    <tr>\n",
              "      <th>25</th>\n",
              "      <td>-0.002670</td>\n",
              "      <td>1.238872</td>\n",
              "      <td>1999</td>\n",
              "    </tr>\n",
              "    <tr>\n",
              "      <th>26</th>\n",
              "      <td>-1.763751</td>\n",
              "      <td>-0.143620</td>\n",
              "      <td>1999</td>\n",
              "    </tr>\n",
              "    <tr>\n",
              "      <th>27</th>\n",
              "      <td>-0.607562</td>\n",
              "      <td>1.211763</td>\n",
              "      <td>1996</td>\n",
              "    </tr>\n",
              "    <tr>\n",
              "      <th>28</th>\n",
              "      <td>3.052369</td>\n",
              "      <td>0.062074</td>\n",
              "      <td>1997</td>\n",
              "    </tr>\n",
              "    <tr>\n",
              "      <th>29</th>\n",
              "      <td>-0.931019</td>\n",
              "      <td>1.245218</td>\n",
              "      <td>1998</td>\n",
              "    </tr>\n",
              "    <tr>\n",
              "      <th>30</th>\n",
              "      <td>-0.655943</td>\n",
              "      <td>0.515152</td>\n",
              "      <td>1995</td>\n",
              "    </tr>\n",
              "    <tr>\n",
              "      <th>31</th>\n",
              "      <td>-0.523041</td>\n",
              "      <td>-0.148014</td>\n",
              "      <td>1997</td>\n",
              "    </tr>\n",
              "    <tr>\n",
              "      <th>32</th>\n",
              "      <td>-1.577905</td>\n",
              "      <td>1.418578</td>\n",
              "      <td>1999</td>\n",
              "    </tr>\n",
              "    <tr>\n",
              "      <th>33</th>\n",
              "      <td>-0.318295</td>\n",
              "      <td>1.372364</td>\n",
              "      <td>1998</td>\n",
              "    </tr>\n",
              "    <tr>\n",
              "      <th>34</th>\n",
              "      <td>-1.516613</td>\n",
              "      <td>-0.747313</td>\n",
              "      <td>1997</td>\n",
              "    </tr>\n",
              "    <tr>\n",
              "      <th>35</th>\n",
              "      <td>-1.763383</td>\n",
              "      <td>1.797862</td>\n",
              "      <td>1997</td>\n",
              "    </tr>\n",
              "    <tr>\n",
              "      <th>36</th>\n",
              "      <td>-1.060092</td>\n",
              "      <td>0.825536</td>\n",
              "      <td>1995</td>\n",
              "    </tr>\n",
              "    <tr>\n",
              "      <th>37</th>\n",
              "      <td>-1.132935</td>\n",
              "      <td>1.481096</td>\n",
              "      <td>1996</td>\n",
              "    </tr>\n",
              "    <tr>\n",
              "      <th>38</th>\n",
              "      <td>-0.924376</td>\n",
              "      <td>1.691101</td>\n",
              "      <td>1998</td>\n",
              "    </tr>\n",
              "    <tr>\n",
              "      <th>39</th>\n",
              "      <td>-2.430437</td>\n",
              "      <td>1.858644</td>\n",
              "      <td>1999</td>\n",
              "    </tr>\n",
              "  </tbody>\n",
              "</table>\n",
              "</div>"
            ],
            "text/plain": [
              "         PC1       PC2  Year\n",
              "0  -0.746320 -1.755386  1997\n",
              "1   3.636795 -1.697928  1995\n",
              "2   0.823197 -0.270643  1995\n",
              "3   3.150495 -1.771546  1999\n",
              "4  -0.348075 -1.523611  1999\n",
              "5  -0.630588 -1.622132  1995\n",
              "6   3.074049  1.047436  1996\n",
              "7   0.051674 -1.345509  1995\n",
              "8  -2.668714 -2.546135  1998\n",
              "9   3.060331  1.541913  1997\n",
              "10 -0.931047 -1.491797  1999\n",
              "11  0.875267 -0.068282  1997\n",
              "12  0.163690 -1.528218  1997\n",
              "13  0.111455 -0.553497  1995\n",
              "14  3.132370  2.648523  1998\n",
              "15 -0.412044 -0.242527  1996\n",
              "16 -1.027167  1.354881  1995\n",
              "17  0.897051 -0.149838  1997\n",
              "18 -1.372139 -1.498122  1998\n",
              "19  3.829378 -0.450289  1998\n",
              "20 -1.333149  0.308063  1999\n",
              "21 -0.525593 -0.565071  1997\n",
              "22 -0.033966  0.401064  1995\n",
              "23  0.328157 -0.298840  1999\n",
              "24 -0.949456 -1.601820  1996\n",
              "25 -0.002670  1.238872  1999\n",
              "26 -1.763751 -0.143620  1999\n",
              "27 -0.607562  1.211763  1996\n",
              "28  3.052369  0.062074  1997\n",
              "29 -0.931019  1.245218  1998\n",
              "30 -0.655943  0.515152  1995\n",
              "31 -0.523041 -0.148014  1997\n",
              "32 -1.577905  1.418578  1999\n",
              "33 -0.318295  1.372364  1998\n",
              "34 -1.516613 -0.747313  1997\n",
              "35 -1.763383  1.797862  1997\n",
              "36 -1.060092  0.825536  1995\n",
              "37 -1.132935  1.481096  1996\n",
              "38 -0.924376  1.691101  1998\n",
              "39 -2.430437  1.858644  1999"
            ]
          },
          "metadata": {
            "tags": []
          },
          "execution_count": 36
        }
      ]
    },
    {
      "cell_type": "code",
      "metadata": {
        "id": "g2HeojqSQIzv"
      },
      "source": [
        ""
      ],
      "execution_count": null,
      "outputs": []
    },
    {
      "cell_type": "code",
      "metadata": {
        "id": "Snnaow-VQIzy"
      },
      "source": [
        ""
      ],
      "execution_count": null,
      "outputs": []
    }
  ]
}